{
 "cells": [
  {
   "cell_type": "markdown",
   "metadata": {},
   "source": [
    "# Automação de Sistemas e Processos com Python\n",
    "\n",
    "### Desafio:\n",
    "\n",
    "Todos os dias, o nosso sistema atualiza as vendas do dia anterior.\n",
    "O seu trabalho diário, como analista, é enviar um e-mail para a diretoria, assim que começar a trabalhar, com o faturamento e a quantidade de produtos vendidos no dia anterior\n",
    "\n",
    "E-mail da diretoria: seugmail+diretoria@gmail.com<br>\n",
    "Local onde o sistema disponibiliza as vendas do dia anterior: https://drive.google.com/drive/folders/149xknr9JvrlEnhNWO49zPcw0PW5icxga?usp=sharing\n",
    "\n",
    "Para resolver isso, vamos usar o pyautogui, uma biblioteca de automação de comandos do mouse e do teclado"
   ]
  },
  {
   "cell_type": "code",
   "execution_count": 30,
   "metadata": {
    "scrolled": true
   },
   "outputs": [
    {
     "name": "stdout",
     "output_type": "stream",
     "text": [
      "2917311\n",
      "15227\n"
     ]
    }
   ],
   "source": [
    "import pyautogui as py\n",
    "import pyperclip\n",
    "import time\n",
    "import pandas as pd\n",
    "\n",
    "\n",
    "#passo 1 entrar no sistema\n",
    "py.PAUSE = 1\n",
    "py.hotkey(\"ctrl\", \"t\")\n",
    "pyperclip.copy(\"https://drive.google.com/drive/folders/149xknr9JvrlEnhNWO49zPcw0PW5icxga\")\n",
    "py.hotkey(\"ctrl\", \"v\")\n",
    "py.press(\"enter\")\n",
    "time.sleep(3)\n",
    "\n",
    "#passo 2 navegar até o local do arquivo\n",
    "py.click(x=401, y=274, clicks=2)\n",
    "time.sleep(1)\n",
    "\n",
    "# passo 3 exportar relatório\n",
    "py.click(x=390, y=332)\n",
    "time.sleep(1)\n",
    "py.click(x=1074, y=150)\n",
    "time.sleep(1)\n",
    "py.click(x=842, y=595)\n",
    "time.sleep(3)\n",
    "\n",
    "#passo 4 calcular indicadores\n",
    "\n",
    "tabela = pd.read_excel(r'C:\\Users\\Lan\\Downloads\\Vendas - Dez.xlsx')\n",
    "faturamento = tabela[\"Valor Final\"].sum()\n",
    "quantidade = tabela[\"Quantidade\"].sum()\n",
    "print(faturamento)\n",
    "print(quantidade)\n",
    "\n",
    "#passo 5 mandar email\n",
    "py.hotkey(\"ctrl\", \"t\")\n",
    "pyperclip.copy(\"https://mail.google.com/mail/u/0/?tab=rm&ogbl#inbox\")\n",
    "py.hotkey(\"ctrl\", \"v\")\n",
    "py.press(\"enter\")\n",
    "time.sleep(2)\n",
    "py.click(x=89, y=172)\n",
    "# preencher campos\n",
    "# destinatario\n",
    "py.write(\"klausmachado1@gmail.com\")\n",
    "py.press(\"enter\")\n",
    "py.press(\"tab\")\n",
    "# assunto\n",
    "pyperclip.copy(\"relatório\")\n",
    "py.hotkey(\"ctrl\", \"v\")\n",
    "py.press(\"tab\")\n",
    "# texto\n",
    "texto = f\"\"\"\n",
    "Prezados, bom dia\n",
    "\n",
    "O faturamento de ontem foi de : R${faturamento:,.2f}\n",
    "A quantidade de produtos foi de : R${quantidade:,.2f}\n",
    "\n",
    "Att\n",
    "Raphael\n",
    "\"\"\"\n",
    "pyperclip.copy(texto)\n",
    "py.hotkey(\"ctrl\", \"v\")\n",
    "py.hotkey('ctrl', 'enter')"
   ]
  },
  {
   "cell_type": "markdown",
   "metadata": {},
   "source": [
    "### Vamos agora ler o arquivo baixado para pegar os indicadores\n",
    "\n",
    "- Faturamento\n",
    "- Quantidade de Produtos"
   ]
  },
  {
   "cell_type": "code",
   "execution_count": 19,
   "metadata": {},
   "outputs": [
    {
     "data": {
      "text/plain": [
       "Point(x=89, y=172)"
      ]
     },
     "execution_count": 19,
     "metadata": {},
     "output_type": "execute_result"
    }
   ],
   "source": [
    "time.sleep(5)\n",
    "py.position()"
   ]
  },
  {
   "cell_type": "markdown",
   "metadata": {},
   "source": [
    "### Vamos agora enviar um e-mail pelo gmail"
   ]
  },
  {
   "cell_type": "code",
   "execution_count": 27,
   "metadata": {},
   "outputs": [],
   "source": [
    "py.hotkey(\"ctrl\", \"t\")\n",
    "pyperclip.copy(\"https://mail.google.com/mail/u/0/?tab=rm&ogbl#inbox\")\n",
    "py.hotkey(\"ctrl\", \"v\")\n",
    "py.press(\"enter\")\n",
    "time.sleep(3)\n",
    "py.click(x=89, y=172)\n",
    "py.write(\"klausmachado1@gmail.com\")\n",
    "py.press(\"enter\")\n",
    "py.press(\"tab\")\n",
    "pyperclip.copy(\"relatório\")\n",
    "py.hotkey(\"ctrl\", \"v\")\n",
    "py.press(\"tab\")\n",
    "# texto\n",
    "faturamento = 100\n",
    "quantidade = 200\n",
    "texto = f\"\"\"\n",
    "Prezados, bom dia\n",
    "\n",
    "O faturamento de ontem foi de : {faturamento}\n",
    "A quantidade de produtos foi de : {quantidade}\n",
    "\n",
    "Att\n",
    "Raphael\n",
    "\"\"\"\n",
    "pyperclip.copy(texto)\n",
    "py.hotkey(\"ctrl\", \"v\")\n",
    "py.hotkey('ctrl', 'enter')"
   ]
  },
  {
   "cell_type": "markdown",
   "metadata": {},
   "source": [
    "#### Use esse código para descobrir qual a posição de um item que queira clicar\n",
    "\n",
    "- Lembre-se: a posição na sua tela é diferente da posição na minha tela"
   ]
  },
  {
   "cell_type": "code",
   "execution_count": null,
   "metadata": {},
   "outputs": [],
   "source": []
  }
 ],
 "metadata": {
  "kernelspec": {
   "display_name": "Python 3 (ipykernel)",
   "language": "python",
   "name": "python3"
  },
  "language_info": {
   "codemirror_mode": {
    "name": "ipython",
    "version": 3
   },
   "file_extension": ".py",
   "mimetype": "text/x-python",
   "name": "python",
   "nbconvert_exporter": "python",
   "pygments_lexer": "ipython3",
   "version": "3.9.13"
  }
 },
 "nbformat": 4,
 "nbformat_minor": 4
}
